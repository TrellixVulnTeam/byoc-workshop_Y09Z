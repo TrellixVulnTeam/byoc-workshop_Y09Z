{
 "cells": [
  {
   "cell_type": "markdown",
   "metadata": {},
   "source": [
    "### Bring your own Container\n",
    "\n",
    "In this notebook, we will cover how to bring our own container with either a framework or algorithm to train a model on SageMaker. \n",
    "\n",
    "We will use fastai in this case and build our container with custom training code integrated into the container. The other option is to use script mode which is easily done by changing the entrypoint.\n"
   ]
  },
  {
   "cell_type": "markdown",
   "metadata": {},
   "source": [
    "#### Container Image\n",
    "Let's start with building a container image locally and then push that to ECR (Elastic Container Registry)"
   ]
  },
  {
   "cell_type": "code",
   "execution_count": null,
   "metadata": {},
   "outputs": [],
   "source": [
    "%cd docker"
   ]
  },
  {
   "cell_type": "code",
   "execution_count": null,
   "metadata": {},
   "outputs": [],
   "source": [
    "!docker build -t am-scikit ."
   ]
  },
  {
   "cell_type": "code",
   "execution_count": null,
   "metadata": {},
   "outputs": [],
   "source": [
    "!docker images"
   ]
  },
  {
   "cell_type": "markdown",
   "metadata": {},
   "source": [
    "## Set the ecr details and tags \n",
    "Lets set a few params here like ecr name space , tag name etc."
   ]
  },
  {
   "cell_type": "code",
   "execution_count": null,
   "metadata": {},
   "outputs": [],
   "source": [
    "from sagemaker import get_execution_role\n",
    "import boto3\n",
    "ecr_namespace = \"sagemaker-training-containers/\"\n",
    "prefix = \"scikit-training\"\n",
    "\n",
    "ecr_repository_name = ecr_namespace + prefix\n",
    "\n",
    "role = get_execution_role()\n",
    "account_id = role.split(\":\")[4]\n",
    "region = boto3.Session().region_name\n",
    "tag_name = account_id+'.dkr.ecr.'+region+'.amazonaws.com/'+ecr_repository_name+':latest'"
   ]
  },
  {
   "cell_type": "code",
   "execution_count": null,
   "metadata": {},
   "outputs": [],
   "source": [
    "tag_name"
   ]
  },
  {
   "cell_type": "code",
   "execution_count": null,
   "metadata": {},
   "outputs": [],
   "source": [
    "!docker tag am-scikit $tag_name"
   ]
  },
  {
   "cell_type": "markdown",
   "metadata": {},
   "source": [
    "### ECR Repository and push steps\n",
    "\n",
    "All of these can be scripted out but they are laid out this way for transparency and step evolution understanding"
   ]
  },
  {
   "cell_type": "code",
   "execution_count": null,
   "metadata": {},
   "outputs": [],
   "source": [
    "!$(aws ecr get-login --no-include-email)"
   ]
  },
  {
   "cell_type": "code",
   "execution_count": null,
   "metadata": {},
   "outputs": [],
   "source": [
    "!aws ecr create-repository --repository-name $ecr_repository_name"
   ]
  },
  {
   "cell_type": "code",
   "execution_count": null,
   "metadata": {},
   "outputs": [],
   "source": [
    "!docker push $tag_name"
   ]
  },
  {
   "cell_type": "code",
   "execution_count": null,
   "metadata": {},
   "outputs": [],
   "source": [
    "container_image_uri = \"{0}.dkr.ecr.{1}.amazonaws.com/{2}:latest\".format(\n",
    "    account_id, region, ecr_repository_name\n",
    ")\n",
    "print(container_image_uri)"
   ]
  },
  {
   "cell_type": "markdown",
   "metadata": {},
   "source": [
    "#### Call your custom container to train the model\n",
    "Our customer Docker image is now complete and uploaded to our ECR (Elastic Container Registry).  \n",
    "Our code can now reference the customer Docker container to run our 'train.py' script.  "
   ]
  },
  {
   "cell_type": "code",
   "execution_count": null,
   "metadata": {},
   "outputs": [],
   "source": [
    "import sagemaker\n",
    "import json\n",
    "\n",
    "# JSON encode hyperparameters\n",
    "def json_encode_hyperparameters(hyperparameters):\n",
    "    return {str(k): json.dumps(v) for (k, v) in hyperparameters.items()}\n",
    "\n",
    "hyperparameters = json_encode_hyperparameters({'min-samples-leaf':2, 'n-estimators':500})\n",
    "\n",
    "# now we will call the generic SageMaker Estimator\n",
    "est = sagemaker.estimator.Estimator(\n",
    "    container_image_uri,\n",
    "    role,\n",
    "    instance_count=1,\n",
    "    #train_instance_type=\"local\",  # we use local mode\n",
    "    instance_type='ml.m5.4xlarge',\n",
    "    base_job_name=prefix,\n",
    "    hyperparameters=hyperparameters,\n",
    ")\n",
    "\n",
    "# s3 URI of the preprocessed training data that we created in the BYOM lab\n",
    "#preprocessed_training_data = 's3://sagemaker-us-east-1-662559257807/sagemaker-scikit-learn-2021-08-20-22-37-42-314/output/train/'\n",
    "preprocessed_training_data = 'your-S3-URI-goes-here'\n",
    "train_config = sagemaker.session.TrainingInput(preprocessed_training_data)"
   ]
  },
  {
   "cell_type": "code",
   "execution_count": null,
   "metadata": {},
   "outputs": [],
   "source": [
    "%%time\n",
    "est.fit({\"train\": train_config})"
   ]
  },
  {
   "cell_type": "code",
   "execution_count": null,
   "metadata": {},
   "outputs": [],
   "source": [
    "training_job_description = est.jobs[-1].describe()\n",
    "model_data_s3_uri = \"{}{}/{}\".format(\n",
    "    training_job_description[\"OutputDataConfig\"][\"S3OutputPath\"],\n",
    "    training_job_description[\"TrainingJobName\"],\n",
    "    \"output/model.tar.gz\",\n",
    ")\n",
    "print(training_job_description[\"TrainingJobName\"])\n",
    "print(model_data_s3_uri)"
   ]
  },
  {
   "cell_type": "markdown",
   "metadata": {},
   "source": [
    "#### Evaluate the trained model\n",
    "Now that we have used our custom Docker container to train a Scikit-learn 0.24 model, let's see how well it performs.  "
   ]
  },
  {
   "cell_type": "code",
   "execution_count": null,
   "metadata": {},
   "outputs": [],
   "source": [
    "training_job_description = sklearn.jobs[-1].describe()\n",
    "\n",
    "model_data_s3_uri = \"{}{}/{}\".format(\n",
    "    training_job_description[\"OutputDataConfig\"][\"S3OutputPath\"],\n",
    "    training_job_description[\"TrainingJobName\"],\n",
    "    \"output/model.tar.gz\",\n",
    ")\n",
    "print(training_job_description[\"TrainingJobName\"])\n",
    "print(model_data_s3_uri)"
   ]
  },
  {
   "cell_type": "code",
   "execution_count": null,
   "metadata": {},
   "outputs": [],
   "source": [
    "sklearn_processor = SKLearnProcessor(\n",
    "    framework_version='0.23-1',\n",
    "    role=role,\n",
    "    instance_type='ml.m5.xlarge',\n",
    "    instance_count=1\n",
    ")\n",
    "\n",
    "sklearn_processor.run(\n",
    "    code=\"code/evaluation.py\",\n",
    "    inputs=[\n",
    "        ProcessingInput(source=model_data_s3_uri, destination=\"/opt/ml/processing/model\"),\n",
    "#       ProcessingInput(source=preprocessed_training_data, destination=\"/opt/ml/processing/train\"),\n",
    "        ProcessingInput(source=preprocessed_test_data, destination=\"/opt/ml/processing/test\"),\n",
    "    ],\n",
    "    outputs=[ProcessingOutput(output_name=\"evaluation\", source=\"/opt/ml/processing/evaluation\")],\n",
    ")\n",
    "evaluation_job_description = sklearn_processor.jobs[-1].describe()"
   ]
  }
 ],
 "metadata": {
  "kernelspec": {
   "display_name": "conda_python3",
   "language": "python",
   "name": "conda_python3"
  },
  "language_info": {
   "codemirror_mode": {
    "name": "ipython",
    "version": 3
   },
   "file_extension": ".py",
   "mimetype": "text/x-python",
   "name": "python",
   "nbconvert_exporter": "python",
   "pygments_lexer": "ipython3",
   "version": "3.6.13"
  }
 },
 "nbformat": 4,
 "nbformat_minor": 4
}
